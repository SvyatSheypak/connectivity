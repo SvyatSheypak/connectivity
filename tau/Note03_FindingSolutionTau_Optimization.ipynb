{
 "cells": [
  {
   "cell_type": "markdown",
   "metadata": {},
   "source": [
    "# Решение оптимизационной задачи по отысканию $\\tau$"
   ]
  },
  {
   "cell_type": "markdown",
   "metadata": {},
   "source": [
    "*Дано* : \n",
    "$$\n",
    "\\begin{gather*}\n",
    "A (n \\times n): a_{ij} = \\dfrac{1}{d_i} I(j \\in N(i)) \\\\\n",
    "d(i) = \\sum\\limits_{j} I(a_{ij} > 0) \\\\\n",
    "\\pi = (d(1), \\ldots, d(n))\n",
    "\\end{gather*}\n",
    "$$"
   ]
  },
  {
   "cell_type": "markdown",
   "metadata": {},
   "source": [
    "Требуется найти:\n",
    "$$\n",
    "\\tau = \\max\\limits_{x \\perp \\pi} \\dfrac{||Ax||_2}{||x||_2}\n",
    "$$\n",
    "Задача равносильна отысканию $\\tau^2$:\n",
    "$$\n",
    "\\tau^2: \\dfrac{||Ax||^2_2}{||x||^2_2} = \\dfrac{<Ax, Ax>}{<x, x>} = \\dfrac{x^T A^TA x}{x^T x}\n",
    "$$"
   ]
  },
  {
   "cell_type": "markdown",
   "metadata": {},
   "source": [
    "Поскольку матрица $A^T A$ симметрична, её ортогональным преобразованием к диагональному виду. Введём матрицу перехода:\n",
    "$$\n",
    "Q = \\begin{pmatrix} v_{11} \\ldots v_{1n} \\\\\n",
    "                    \\vdots  \\quad \\vdots \\\\\n",
    "                    v_{n1} \\ldots v_{nn}\n",
    "    \\end{pmatrix}\n",
    "$$\n",
    "В ней построчно записаны координаты собственных векторов $v_i: A v_i = \\lambda_i v_i$. И матрица $Q$ является ортогональной:\n",
    "$$\n",
    "Q^T Q = Q Q^T = E\n",
    "$$\n",
    "\n",
    "Тогда\n",
    "$$\n",
    "Q A^T A Q^T = \\Lambda =diag(\\lambda_1, \\ldots, \\lambda_n)\n",
    "$$"
   ]
  },
  {
   "cell_type": "markdown",
   "metadata": {},
   "source": [
    "В новых координатах вектора будут иметь координаты:\n",
    "$$\n",
    "\\tilde\\pi = Q \\pi\n",
    "$$\n",
    "Тогда задача по отысканию $\\tau^2$ примет вид:\n",
    "$$\n",
    "\\tau^2 = \\max\\limits_{x \\perp \\pi} \\dfrac{||Ax||^2_2}{||x||^2_2} = \\max\\limits_{x \\perp \\pi} \\dfrac{x^T A^TA x}{x^T x} \n",
    "        = \\max\\limits_{x \\perp \\pi} \\dfrac{x^T \\Lambda x}{x^T x} = \\max\\limits_{x \\perp \\pi , x^T x = 1} x^T \\Lambda x\n",
    "$$"
   ]
  },
  {
   "cell_type": "markdown",
   "metadata": {},
   "source": [
    "Введём функции:\n",
    "$$\n",
    "\\begin{gather*}\n",
    "f(x) = x^T \\Lambda x \\\\\n",
    "\\phi_1(x) = x^T x - 1 \\\\\n",
    "\\phi_2(x) = x^T \\tilde \\pi\n",
    "\\end{gather*}\n",
    "$$"
   ]
  },
  {
   "cell_type": "markdown",
   "metadata": {},
   "source": [
    "Исходная задача перепишется так:\n",
    "$$\n",
    "\\left\\{\n",
    "\\begin{aligned}\n",
    "&f(x) \\rightarrow max \\\\\n",
    "&\\phi_1(x) = 0 \\\\\n",
    "&\\phi_2(x) = 0\n",
    "\\end{aligned}\n",
    "\\right.\n",
    "$$"
   ]
  },
  {
   "cell_type": "markdown",
   "metadata": {},
   "source": [
    "Введём функцию Лагранжа:\n",
    "$$\n",
    "L(x, \\mu_1, \\mu_2) = f(x) + \\mu_1 \\phi_1(x) + \\mu_2 \\phi_2 (x)\n",
    "$$\n",
    "Неоходимым условием экстремума является равенство нулю частных производных:\n",
    "$$\n",
    "\\left\\{\n",
    "\\begin{aligned}\n",
    "&\\nabla_i L = 2 \\lambda_i x_i + 2 \\mu_1 x_i + \\mu_2 \\tilde\\pi_i = 0 ,\\quad i = 1, \\dots, n \\\\\n",
    "&\\phi_1(x) = x_1^2 + x_2^2 + \\ldots + x_n^2 - 1 =0 \\\\\n",
    "&\\phi_2(x) = x_1 \\tilde\\pi_1 + x_2 \\tilde\\pi_2 + \\ldots + x_n \\tilde\\pi_n = 0\n",
    "\\end{aligned}\n",
    "\\right.\n",
    "$$"
   ]
  },
  {
   "cell_type": "markdown",
   "metadata": {},
   "source": [
    "Галеев, Тихомиров - задачник (красный)"
   ]
  },
  {
   "cell_type": "code",
   "execution_count": 2,
   "metadata": {},
   "outputs": [
    {
     "name": "stdout",
     "output_type": "stream",
     "text": [
      "0\n"
     ]
    }
   ],
   "source": [
    "n = [0, 1, 2, 3, 4]\n",
    "print(n[-5])"
   ]
  }
 ],
 "metadata": {
  "kernelspec": {
   "display_name": "Python 3",
   "language": "python",
   "name": "python3"
  },
  "language_info": {
   "codemirror_mode": {
    "name": "ipython",
    "version": 3
   },
   "file_extension": ".py",
   "mimetype": "text/x-python",
   "name": "python",
   "nbconvert_exporter": "python",
   "pygments_lexer": "ipython3",
   "version": "3.8.5"
  }
 },
 "nbformat": 4,
 "nbformat_minor": 2
}
