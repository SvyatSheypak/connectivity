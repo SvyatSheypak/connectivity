{
 "cells": [
  {
   "cell_type": "markdown",
   "metadata": {},
   "source": [
    "# Изучение множеств графов с одинаковыми сигнатурами."
   ]
  },
  {
   "cell_type": "markdown",
   "metadata": {},
   "source": [
    "Под сигнатурой графа подразумевается набор $(d_1, d_2 , \\ldots d_n)$, где $d_i$ --- степень i-ой вершины неориентированного графа."
   ]
  },
  {
   "cell_type": "markdown",
   "metadata": {},
   "source": [
    "## Часть 1. Реализация функций (можно пропустить)"
   ]
  },
  {
   "cell_type": "code",
   "execution_count": 3,
   "metadata": {},
   "outputs": [],
   "source": [
    "import networkx as nx\n",
    "import matplotlib.pylab as plt\n",
    "import numpy as np\n",
    "import itertools\n",
    "import copy\n",
    "% matplotlib inline"
   ]
  },
  {
   "cell_type": "code",
   "execution_count": 4,
   "metadata": {},
   "outputs": [],
   "source": [
    "def get_graph_signature(g):\n",
    "    signature = []\n",
    "    for node in list(g.nodes()):\n",
    "        signature.append(g.degree(node))\n",
    "    return tuple(signature)\n",
    "\n",
    "def get_all_edges(n_nodes):\n",
    "    s = np.arange(1, n_nodes + 1)\n",
    "    return list(itertools.combinations(s, 2))\n",
    "\n",
    "def get_graphs_dict(n_nodes, edges_min=0, edges_max=None, max_edges=False):\n",
    "    if max_edges == True:\n",
    "        edges_max = n_nodes * (n_nodes - 1) // 2\n",
    "    elif edges_max == None:\n",
    "        edges_max = edges_min + 1\n",
    "    edges = get_all_edges(n_nodes)\n",
    "    graphs_dict = {}\n",
    "    for num_edges in range(edges_min, edges_max + 1):\n",
    "        edges_combinations = list(itertools.combinations(edges, num_edges))\n",
    "        for edg in edges_combinations:\n",
    "            g = nx.Graph()\n",
    "            g.add_edges_from(edg)\n",
    "            sign = tuple(dict(g.degree()).values())\n",
    "            if sign not in graphs_dict.keys():\n",
    "                graphs_dict[sign] = [g]\n",
    "            else:\n",
    "                graphs_dict[sign].append(g)\n",
    "    return graphs_dict"
   ]
  },
  {
   "cell_type": "code",
   "execution_count": 14,
   "metadata": {},
   "outputs": [],
   "source": [
    "def plot_graphs_by_signature(signature, graphs_dict=None, ncols=7):\n",
    "    n_nodes = len(signature)\n",
    "    n_edges = np.sum(signature) // 2\n",
    "    \n",
    "    if graphs_dict == None:\n",
    "        graphs_dict = get_graphs_dict(n_nodes, n_edges)\n",
    "        assert (signature in graphs_dict.keys()), \"No such signatures\"\n",
    "        \n",
    "    graphs = graphs_dict[signature]\n",
    "    \n",
    "    if len(graphs) == 1: \n",
    "        pass\n",
    "    elif (len(graphs) <= ncols):\n",
    "        #plt.suptitle('Signature {}'.format(signature), fontsize=18)\n",
    "        nrows=1\n",
    "        ncols=len(graphs)\n",
    "        fig, axes = plt.subplots(nrows=nrows, ncols=ncols, figsize=(3*ncols, 3*nrows),)\n",
    "        plt.suptitle('Signature {}\\n\\n'.format(signature), fontsize=18)\n",
    "        \n",
    "        for i, ax in enumerate(axes):\n",
    "            ax.set_title('tau: {:.3f}'.format(estimate_tau(get_communication_matrix(graphs[i]), n_iter=1000 * n_nodes)))\n",
    "            nx.draw(graphs[i], pos=nx.circular_layout(graphs[i]), ax=ax, with_labels=True, \n",
    "                            node_color='r', edge_color='black')\n",
    "        plt.tight_layout()\n",
    "        plt.subplots_adjust(top=0.80)\n",
    "        plt.show()\n",
    "\n",
    "        \n",
    "    else:\n",
    "        nrows = len(graphs) // ncols + 1\n",
    "        fig, axes = plt.subplots(nrows=nrows, ncols=ncols, figsize=(3*ncols, 3*nrows),)\n",
    "        plt.suptitle('Signature {}\\n\\n'.format(signature), fontsize=18)\n",
    "        \n",
    "        for i in range(nrows):\n",
    "            for j in range(ncols):\n",
    "                if i * ncols + j < len(graphs):\n",
    "                    gr = graphs[i*ncols + j]\n",
    "                    \n",
    "                    axes[i, j].set_title('tau: {:.3f}'.format(estimate_tau(get_communication_matrix(gr), n_iter=1000 * n_nodes)))\n",
    "                    nx.draw(gr, pos=nx.circular_layout(gr), ax=axes[i, j], with_labels=True, \n",
    "                            node_color='r', edge_color='black')\n",
    "                else:\n",
    "                    axes[i,j].xaxis.set_visible(False)\n",
    "                    axes[i,j].tick_params(left=False, labelleft=False)\n",
    "                    axes[i,j].patch.set_visible(False)\n",
    "        \n",
    "        plt.tight_layout()\n",
    "        plt.subplots_adjust(top=0.85)\n",
    "        plt.show()"
   ]
  },
  {
   "cell_type": "code",
   "execution_count": 6,
   "metadata": {},
   "outputs": [],
   "source": [
    "def draw_graph(g):\n",
    "    nx.draw(g, pos=nx.circular_layout(g), with_labels=True, \n",
    "                    node_color='r', edge_color='black')"
   ]
  },
  {
   "cell_type": "code",
   "execution_count": 7,
   "metadata": {},
   "outputs": [],
   "source": [
    "def get_all_signatures(graphs_dict):\n",
    "    keys = [key for key in graphs_dict.keys()]\n",
    "    keys = list(set([tuple(sorted(key)) for key in keys]))\n",
    "    keys = sorted(keys, key= lambda x: len(x))\n",
    "    for i, key in enumerate(keys):\n",
    "        print(i, key)\n",
    "    return keys"
   ]
  },
  {
   "cell_type": "code",
   "execution_count": 8,
   "metadata": {},
   "outputs": [],
   "source": [
    "def plot_several_signatures(signatures):\n",
    "    n_nodes = len(signatures[0])\n",
    "    edges = [sum(signature) // 2 for signature in signatures]\n",
    "    graphs_dict = get_graphs_dict(n_nodes, np.min(edges), np.max(edges))\n",
    "    \n",
    "    for signature in signatures:\n",
    "        print(signature, len(signatures))\n",
    "        plot_graphs_by_signature(signature, graphs_dict)"
   ]
  },
  {
   "cell_type": "code",
   "execution_count": 9,
   "metadata": {},
   "outputs": [],
   "source": [
    "def build_graph_from_adj(M):\n",
    "    rows, cols = np.where(M - np.eye(M.shape[0]) > 0)\n",
    "    rows += 1\n",
    "    cols += 1\n",
    "    edges = zip(rows, cols)\n",
    "    g = nx.Graph()\n",
    "    g.add_edges_from(edges)\n",
    "    return g"
   ]
  },
  {
   "cell_type": "code",
   "execution_count": 10,
   "metadata": {},
   "outputs": [],
   "source": [
    "def get_communication_matrix(graph):\n",
    "    Lp = nx.to_numpy_matrix(graph)\n",
    "    #print(Lp)\n",
    "    N = Lp.shape[0]\n",
    "    Lp = np.add(Lp, np.eye(N))\n",
    "    #print(Lp)\n",
    "    Lp = np.divide(Lp, np.sum(Lp, axis=1))\n",
    "    #print(Lp)\n",
    "    return Lp  "
   ]
  },
  {
   "cell_type": "code",
   "execution_count": 11,
   "metadata": {},
   "outputs": [],
   "source": [
    "N = 5\n",
    "E = []\n",
    "for i in range(N):\n",
    "    E_prime = []\n",
    "    for j in range(N):\n",
    "        M = np.eye(N)\n",
    "        M[[i, j]] = M[[j, i]]\n",
    "        E_prime.append(M)\n",
    "    E.append(E_prime)\n",
    "    \n",
    "def swap_vertices(M, i, j):\n",
    "    C = E[i][j]\n",
    "    return np.dot(C.T, np.dot(M, C))"
   ]
  },
  {
   "cell_type": "code",
   "execution_count": 12,
   "metadata": {},
   "outputs": [],
   "source": [
    "def estimate_tau(M, signature=None, n_iter=1000):\n",
    "    taus = []\n",
    "    N = M.shape[0]\n",
    "    if signature == None:\n",
    "        signature = np.sum(M > 0, axis=1)\n",
    "        pi = np.array(signature)\n",
    "    else: \n",
    "        pi = np.array(signature) + 1\n",
    "    for _ in range(n_iter):\n",
    "        pi = pi.reshape(N, 1)\n",
    "        x = np.random.random(N).reshape(N, 1)\n",
    "        ort = (np.dot(x.T, pi) /  np.dot(pi.T, pi)) * pi\n",
    "        x -= ort\n",
    "        x /= np.sqrt(np.dot(x.T, x))\n",
    "        # print('Check:', np.dot(x, pi).round(2))\n",
    "        Mx = np.dot(M, x)\n",
    "        taus.append(np.dot(Mx.T, Mx))\n",
    "    return np.max(taus)"
   ]
  }
 ],
 "metadata": {
  "kernelspec": {
   "display_name": "Python 3",
   "language": "python",
   "name": "python3"
  },
  "language_info": {
   "codemirror_mode": {
    "name": "ipython",
    "version": 3
   },
   "file_extension": ".py",
   "mimetype": "text/x-python",
   "name": "python",
   "nbconvert_exporter": "python",
   "pygments_lexer": "ipython3",
   "version": "3.8.5"
  }
 },
 "nbformat": 4,
 "nbformat_minor": 2
}
