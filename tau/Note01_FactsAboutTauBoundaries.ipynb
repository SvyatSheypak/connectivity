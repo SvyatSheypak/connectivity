{
 "cells": [
  {
   "cell_type": "markdown",
   "metadata": {},
   "source": [
    "# Тетрадка №1. "
   ]
  },
  {
   "cell_type": "markdown",
   "metadata": {},
   "source": [
    "### Главная цель: найти условия на граф, при которых будет выполнено неравенство $\\tau < 1$"
   ]
  },
  {
   "cell_type": "markdown",
   "metadata": {},
   "source": [
    "#### Обозначения : \n",
    "$$\n",
    "\\begin{aligned}\n",
    "& A (n \\times n): a_{ij} = \\dfrac{1}{d(i)} I(j \\in N(i)) - \\text{матрица инцидентности}\\\\\n",
    "& d(i) = \\sum\\limits_{j} I(a_{ij} > 0) - \\text{степени вершин}\\\\\n",
    "& \\pi = (d(1), \\ldots, d(n)), \\quad \\pi^T A = \\pi^T \\\\\n",
    "& \\tau = \\max\\limits_{x \\perp \\pi} \\dfrac{||Ax||_2}{||x||_2}\n",
    "\\end{aligned}\n",
    "$$"
   ]
  },
  {
   "cell_type": "markdown",
   "metadata": {},
   "source": [
    "#### Факты, которые сейчас находятся в шаговой доступности:\n",
    "* Граф сильносвязен (в нашем неориентированном случае просто связен) $\\Leftrightarrow$ матрица A неприводима.\n",
    "* Для неприводимых неотрицательных матриц имеем теорему Перрона-Фробениуса: $\\rho(A) = 1$ и это простое собственное значение\n",
    "* $||A||_2 = 1 \\Leftrightarrow $ $A$ является дважды стохастичной (в нашем случае это симметричность матрицы, регулярность графа)\n",
    "* Теорема Куранта-Фишера: пусть $\\lambda_1 \\geqslant \\lambda_2 \\geqslant \\ldots \\geqslant \\lambda_n$ - собственные значения матрицы $A^TA$.  Тогда\n",
    "$$\n",
    "\\lambda_k = \\min\\limits_{S: dim S = n - k + 1} \\max\\limits_{x \\in S} \\dfrac{<x, A^TAx>}{<x, x>}\n",
    "$$"
   ]
  },
  {
   "cell_type": "markdown",
   "metadata": {},
   "source": [
    "Применяя последнюю теорему к неравенству\n",
    "$$\n",
    "\\max\\limits_{x} \\dfrac{<x, A^TAx>}{<x, x>} = \\min\\limits_{S: dim S = n} \\max\\limits_{x \\in S} \\dfrac{<x, A^TAx>}{<x, x>} \\geqslant  \\max\\limits_{x \\perp \\pi} \\dfrac{<x, A^TAx>}{<x, x>} \\geqslant  \\min\\limits_{w} \\max\\limits_{x \\perp w} \\dfrac{<x, A^TAx>}{<x, x>}\n",
    "$$\n",
    "можно получить следующий результат:\n",
    "$$\n",
    "||A||_2^2 = \\lambda_1 \\geqslant \\tau^2 \\geqslant \\lambda_2\n",
    "$$"
   ]
  },
  {
   "cell_type": "code",
   "execution_count": 1,
   "metadata": {},
   "outputs": [],
   "source": [
    "% run network_functions.ipynb"
   ]
  },
  {
   "cell_type": "code",
   "execution_count": 16,
   "metadata": {},
   "outputs": [],
   "source": [
    "def custom_graph(n, view=False):\n",
    "    '''Returns graph and adjacency matrix of a custom graph: \n",
    "       i -- i + 1 for i = 1 ... n - 1\n",
    "       i -- i + n for i = 1 ... n                                                    \n",
    "    '''\n",
    "    g = nx.Graph()\n",
    "    g.add_edge(1, 2)\n",
    "    g.add_edge(1, 3)\n",
    "    g.add_edge(4, 5)\n",
    "    g.add_edge(1, 6)\n",
    "    g.add_edge(6, 4)\n",
    "    if view:\n",
    "        nx.draw(g, pos=nx.circular_layout(g), with_labels=True, \n",
    "                            node_color='r', edge_color='black')\n",
    "    return g, get_communication_matrix(g)"
   ]
  },
  {
   "cell_type": "code",
   "execution_count": 17,
   "metadata": {},
   "outputs": [],
   "source": [
    "g, _ = custom_graph(6)"
   ]
  },
  {
   "cell_type": "code",
   "execution_count": 23,
   "metadata": {},
   "outputs": [
    {
     "data": {
      "image/png": "[encoded data removed]",
      "text/plain": [
       "<Figure size 360x360 with 1 Axes>"
      ]
     },
     "metadata": {},
     "output_type": "display_data"
    }
   ],
   "source": [
    "plt.figure(figsize=(5, 5))\n",
    "plot1 = nx.draw(g, pos=nx.circular_layout(g), with_labels=True, \n",
    "                            node_color='red', edge_color='black', node_size=450, font_size=16, font_weight=)"
   ]
  }
 ],
 "metadata": {
  "kernelspec": {
   "display_name": "Python 3",
   "language": "python",
   "name": "python3"
  },
  "language_info": {
   "codemirror_mode": {
    "name": "ipython",
    "version": 3
   },
   "file_extension": ".py",
   "mimetype": "text/x-python",
   "name": "python",
   "nbconvert_exporter": "python",
   "pygments_lexer": "ipython3",
   "version": "3.8.5"
  }
 },
 "nbformat": 4,
 "nbformat_minor": 2
}
